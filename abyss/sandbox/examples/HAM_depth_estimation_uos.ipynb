{
 "cells": [
  {
   "attachments": {},
   "cell_type": "markdown",
   "metadata": {},
   "source": [
    "# Examples on how to use the new depth estimation functions\n",
    "\n",
    "This demonstrates the Segmented Rolling Gradient method.\n",
    "\n",
    "Initialise notebook"
   ]
  },
  {
   "cell_type": "code",
   "execution_count": 2,
   "metadata": {
    "notebookRunGroups": {
     "groupValue": "1"
    },
    "tags": []
   },
   "outputs": [],
   "source": [
    "import matplotlib.pyplot as plt\n",
    "import seaborn as sns\n",
    "import pandas as pd\n",
    "from pathlib import Path\n",
    "import pprint\n",
    "\n",
    "#====================================================================\n",
    "# Import the main functions from the uos_depth_est_core.py module\n",
    "#====================================================================\n",
    "\n",
    "from uos_depth_est_core import (\n",
    "    get_setitec_signals,\n",
    "    depth_est_persegment_stats,\n",
    "    depth_est_xls_persegment_stats,\n",
    "    )"
   ]
  },
  {
   "cell_type": "markdown",
   "metadata": {},
   "source": [
    "# Depth Estimation using the Segmented Rolling Gradient method"
   ]
  },
  {
   "cell_type": "markdown",
   "metadata": {},
   "source": [
    "## Processing signals provided as arrays\n",
    "A function is provided with torque and position array as input. \n",
    "* Returned value can be varied by the `simple_results` flag. \n",
    "* When `simple_results == True`, the function returns the keypoint locations as a list of floating point velues.\n",
    "* When `simple_results == False`, the function returns a dictionary that contains the individual depths of the material, and the reference points of the entry/exit point estimations."
   ]
  },
  {
   "cell_type": "code",
   "execution_count": null,
   "metadata": {},
   "outputs": [
    {
     "ename": "",
     "evalue": "",
     "output_type": "error",
     "traceback": [
      "\u001b[1;31mRunning cells with 'drilling (Python 3.10.14)' requires the ipykernel package.\n",
      "\u001b[1;31mRun the following command to install 'ipykernel' into the Python environment. \n",
      "\u001b[1;31mCommand: 'conda install -n drilling ipykernel --update-deps --force-reinstall'"
     ]
    }
   ],
   "source": [
    "file_path = r'data\\\\20110019_20110019_ST_490_3.xls'"
   ]
  },
  {
   "cell_type": "code",
   "execution_count": null,
   "metadata": {},
   "outputs": [
    {
     "ename": "",
     "evalue": "",
     "output_type": "error",
     "traceback": [
      "\u001b[1;31mRunning cells with 'drilling (Python 3.10.14)' requires the ipykernel package.\n",
      "\u001b[1;31mRun the following command to install 'ipykernel' into the Python environment. \n",
      "\u001b[1;31mCommand: 'conda install -n drilling ipykernel --update-deps --force-reinstall'"
     ]
    }
   ],
   "source": [
    "pos, torque = get_setitec_signals(file_path)\n",
    "depth_est_persegment_stats(torque, pos)"
   ]
  },
  {
   "cell_type": "markdown",
   "metadata": {},
   "source": [
    "The below uses the the XLS file reader version of the algorithm"
   ]
  },
  {
   "cell_type": "code",
   "execution_count": null,
   "metadata": {},
   "outputs": [
    {
     "ename": "",
     "evalue": "",
     "output_type": "error",
     "traceback": [
      "\u001b[1;31mRunning cells with 'drilling (Python 3.10.14)' requires the ipykernel package.\n",
      "\u001b[1;31mRun the following command to install 'ipykernel' into the Python environment. \n",
      "\u001b[1;31mCommand: 'conda install -n drilling ipykernel --update-deps --force-reinstall'"
     ]
    }
   ],
   "source": [
    "results = depth_est_xls_persegment_stats(file_path)\n",
    "\n",
    "fig, ax = plt.subplots(figsize=(12, 8))\n",
    "sns.lineplot(x=pos, y=torque, ax=ax, label='Torque vs Position', color='cyan')\n",
    "ax.vlines(x=results, ymin=torque.min(), ymax=torque.max()*0.5, color='red', label=\"Key positions\")\n",
    "ax.set_xlabel(\"Position [mm]\")\n",
    "ax.set_ylabel(\"Torque [A]\")\n",
    "ax.set_title(f\"Torque vs position, estimated depth {results[-1]-results[0]:.2f} mm\")\n",
    "for i, pos in enumerate(results):\n",
    "    ax.text(pos, torque.max()*0.5, f\"{i}\", color='red')"
   ]
  },
  {
   "cell_type": "markdown",
   "metadata": {},
   "source": [
    "# Comparison of the depth estimation algorithm with the manual measurements"
   ]
  },
  {
   "cell_type": "code",
   "execution_count": null,
   "metadata": {},
   "outputs": [
    {
     "ename": "",
     "evalue": "",
     "output_type": "error",
     "traceback": [
      "\u001b[1;31mRunning cells with 'drilling (Python 3.10.14)' requires the ipykernel package.\n",
      "\u001b[1;31mRun the following command to install 'ipykernel' into the Python environment. \n",
      "\u001b[1;31mCommand: 'conda install -n drilling ipykernel --update-deps --force-reinstall'"
     ]
    }
   ],
   "source": [
    "file_demo = r'data\\\\17070143_17070143_ST_1092_1.xls'\n",
    "results_ss = depth_est_xls_persegment_stats(file_demo, simple_results=False)\n",
    "results_smp = dict(depth_estimate = 12.64-4.81, estimated_positions= [4.81, 8.57, 12.64])\n",
    "\n",
    "# Plot the results\n",
    "fig, ax = plt.subplots(figsize=(12, 8))\n",
    "pos, torque = get_setitec_signals(file_demo)\n",
    "sns.lineplot(x=pos, y=torque, ax=ax, label='Torque vs Position', color='cyan')\n",
    "ax.vlines(x=results_ss['estimated_positions'], ymin=torque.max()*0.25, ymax=torque.max()*0.45, color='purple', label=\"Segmented Gradient (SG) key positions\")\n",
    "ax.vlines(x=results_smp['estimated_positions'], ymin=torque.max()*0.5, ymax=torque.max()*0.7, color='blue', label=\"Segmented MP (SMP) key positions\")\n",
    "ax.set_xlabel(\"Position [mm]\")\n",
    "ax.set_ylabel(\"Torque [A]\")\n",
    "ax.set_title(f\"Torque vs position, reference coupon material: 4 mm CFRP + 4 mm Ti = 8 mm coupon thickness\")\n",
    "for i, pos in enumerate(results_ss['estimated_positions']):\n",
    "    ax.text(pos, torque.max()*0.46, f\"SG-{i}\\n{results_ss['estimated_positions'][i]:.2f}\", color='purple')\n",
    "for i, pos in enumerate(results_smp['estimated_positions']):\n",
    "    ax.text(pos, torque.max()*0.71, f\"SMP-{i}\\n{results_smp['estimated_positions'][i]:.2f}\", color='blue')\n",
    "ax.legend()\n",
    "\n",
    "text = \\\n",
    "f\"\"\"Method 1 \"Segmented Gradient (SG)\":\n",
    "  Total depth      =  {results_ss['depth_estimate']:.2f} mm\n",
    "  SG-0 CFRP entry  =  {results_ss['estimated_positions'][0]:.2f} mm\n",
    "  SG-1 Ti entry    =  {results_ss['estimated_positions'][1]:.2f} mm\n",
    "  SG-2 Ti exit     = {results_ss['estimated_positions'][2]:.2f} mm\n",
    "Method 2 \"Segmented MP\" (WIP):\n",
    "  Total depth       =  {results_smp['depth_estimate']:.2f} mm\n",
    "  SMP-0 CFRP entry  =  {results_smp['estimated_positions'][0]:.2f} mm\n",
    "  SMP-1 Ti entry    =  {results_smp['estimated_positions'][1]:.2f} mm\n",
    "  SMP-2 Ti exit     = {results_smp['estimated_positions'][2]:.2f} mm\"\"\"\n",
    "ax.text(20, 10, text, color='black', bbox=dict(facecolor='green', alpha=0.5), fontdict=dict(size=10, family='monospace'))\n",
    "7.85300016,\n",
    "8.57499981, 12.63899994"
   ]
  }
 ],
 "metadata": {
  "anaconda-cloud": {},
  "kernelspec": {
   "display_name": "Python 3.9.13 64-bit ('ts39')",
   "language": "python",
   "name": "python3"
  },
  "language_info": {
   "codemirror_mode": {
    "name": "ipython",
    "version": 3
   },
   "file_extension": ".py",
   "mimetype": "text/x-python",
   "name": "python",
   "nbconvert_exporter": "python",
   "pygments_lexer": "ipython3",
   "version": "3.10.14"
  },
  "vscode": {
   "interpreter": {
    "hash": "0e8e233323a73a35a41edbcac8d39c4d2b84bb54b3cb0a905319d6d5ae65c280"
   }
  }
 },
 "nbformat": 4,
 "nbformat_minor": 4
}
