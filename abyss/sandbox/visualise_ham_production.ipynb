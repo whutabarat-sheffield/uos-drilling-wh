{
 "cells": [
  {
   "cell_type": "code",
   "execution_count": 67,
   "id": "35baeb19",
   "metadata": {},
   "outputs": [],
   "source": [
    "from pathlib import Path\n",
    "from glob import glob\n",
    "import os\n",
    "import pandas as pd\n",
    "# import polars as pl\n",
    "import plotly.express as px\n",
    "from tqdm import tqdm\n",
    "\n",
    "from abyss import dataparser as dp\n",
    "from abyss.ingest_xls import (\n",
    "    read_setitec_xls_to_series,\n",
    "    process_setitec_xls_files_parallel,\n",
    ")\n",
    "\n",
    "mdb_dir=Path(r\"C:\\Users\\NG9374C\\Documents\\GitHub\\uos-drilling\\abyss\\sandbox\\validation\\113-V3-022-MQ_1\")\n",
    "#C:\\Users\\NG9374C\\Documents\\drilling_data\\de0-svm42__AMIGO_ATIP_Digital_Assembly_WP3\\RAW_SETITEC\n",
    "ham_dir=Path(r\"C:\\Users\\NG9374C\\Documents\\drilling_data\\de0-svm42__AMIGO_ATIP_Digital_Assembly_WP3\\RAW_SETITEC\")\n",
    "ham_selected_dir = ham_dir / \"..\" / \"selected_control_boxes\""
   ]
  },
  {
   "cell_type": "code",
   "execution_count": 2,
   "id": "5caee9aa",
   "metadata": {},
   "outputs": [
    {
     "data": {
      "text/plain": [
       "3087"
      ]
     },
     "execution_count": 2,
     "metadata": {},
     "output_type": "execute_result"
    }
   ],
   "source": [
    "xls_files = glob(str(ham_selected_dir / \"**/*.xls\"), recursive=True)\n",
    "len(xls_files)"
   ]
  },
  {
   "cell_type": "code",
   "execution_count": 3,
   "id": "2a9d9e40",
   "metadata": {},
   "outputs": [
    {
     "name": "stderr",
     "output_type": "stream",
     "text": [
      "Processing SETITEC XLS files in parallel:   0%|          | 0/3087 [00:00<?, ?it/s][Parallel(n_jobs=8)]: Using backend LokyBackend with 8 concurrent workers.\n",
      "Processing SETITEC XLS files in parallel:   1%|          | 16/3087 [00:02<09:27,  5.41it/s][Parallel(n_jobs=8)]: Done   2 tasks      | elapsed:    2.7s\n",
      "[Parallel(n_jobs=8)]: Done   9 tasks      | elapsed:    2.8s\n",
      "Processing SETITEC XLS files in parallel:   1%|          | 24/3087 [00:02<05:37,  9.08it/s][Parallel(n_jobs=8)]: Done  16 tasks      | elapsed:    2.9s\n",
      "[Parallel(n_jobs=8)]: Done  25 tasks      | elapsed:    3.0s\n",
      "Processing SETITEC XLS files in parallel:   1%|▏         | 40/3087 [00:03<02:44, 18.48it/s][Parallel(n_jobs=8)]: Done  34 tasks      | elapsed:    3.1s\n",
      "[Parallel(n_jobs=8)]: Batch computation too fast (0.19901845683723546s.) Setting batch_size=2.\n",
      "Processing SETITEC XLS files in parallel:   2%|▏         | 56/3087 [00:03<01:41, 29.92it/s][Parallel(n_jobs=8)]: Done  45 tasks      | elapsed:    3.2s\n",
      "[Parallel(n_jobs=8)]: Done  56 tasks      | elapsed:    3.3s\n",
      "[Parallel(n_jobs=8)]: Batch computation too fast (0.19704747200012207s.) Setting batch_size=4.\n",
      "Processing SETITEC XLS files in parallel:   4%|▍         | 120/3087 [00:03<00:34, 85.03it/s][Parallel(n_jobs=8)]: Done  82 tasks      | elapsed:    3.5s\n",
      "Processing SETITEC XLS files in parallel:   6%|▌         | 184/3087 [00:04<00:26, 108.16it/s][Parallel(n_jobs=8)]: Done 128 tasks      | elapsed:    4.0s\n",
      "Processing SETITEC XLS files in parallel:   7%|▋         | 216/3087 [00:04<00:25, 112.17it/s][Parallel(n_jobs=8)]: Done 188 tasks      | elapsed:    4.5s\n",
      "Processing SETITEC XLS files in parallel:   9%|▉         | 280/3087 [00:04<00:23, 117.56it/s][Parallel(n_jobs=8)]: Done 248 tasks      | elapsed:    4.9s\n",
      "Processing SETITEC XLS files in parallel:  11%|█         | 344/3087 [00:05<00:23, 118.93it/s][Parallel(n_jobs=8)]: Done 316 tasks      | elapsed:    5.5s\n",
      "Processing SETITEC XLS files in parallel:  14%|█▍        | 440/3087 [00:06<00:23, 111.72it/s][Parallel(n_jobs=8)]: Done 384 tasks      | elapsed:    6.1s\n",
      "Processing SETITEC XLS files in parallel:  16%|█▋        | 504/3087 [00:06<00:20, 127.45it/s][Parallel(n_jobs=8)]: Done 460 tasks      | elapsed:    6.7s\n",
      "Processing SETITEC XLS files in parallel:  18%|█▊        | 568/3087 [00:07<00:21, 118.04it/s][Parallel(n_jobs=8)]: Done 536 tasks      | elapsed:    7.4s\n",
      "Processing SETITEC XLS files in parallel:  22%|██▏       | 664/3087 [00:08<00:20, 119.47it/s][Parallel(n_jobs=8)]: Done 620 tasks      | elapsed:    8.1s\n",
      "Processing SETITEC XLS files in parallel:  25%|██▍       | 760/3087 [00:08<00:19, 118.84it/s][Parallel(n_jobs=8)]: Done 704 tasks      | elapsed:    8.7s\n",
      "Processing SETITEC XLS files in parallel:  27%|██▋       | 824/3087 [00:09<00:18, 120.27it/s][Parallel(n_jobs=8)]: Done 796 tasks      | elapsed:    9.6s\n",
      "Processing SETITEC XLS files in parallel:  30%|██▉       | 920/3087 [00:10<00:18, 114.07it/s][Parallel(n_jobs=8)]: Done 888 tasks      | elapsed:   10.4s\n",
      "Processing SETITEC XLS files in parallel:  33%|███▎      | 1016/3087 [00:11<00:19, 104.26it/s][Parallel(n_jobs=8)]: Done 988 tasks      | elapsed:   11.4s\n",
      "Processing SETITEC XLS files in parallel:  37%|███▋      | 1144/3087 [00:12<00:17, 109.03it/s][Parallel(n_jobs=8)]: Done 1088 tasks      | elapsed:   12.3s\n",
      "Processing SETITEC XLS files in parallel:  40%|████      | 1240/3087 [00:13<00:16, 114.20it/s][Parallel(n_jobs=8)]: Done 1196 tasks      | elapsed:   13.2s\n",
      "Processing SETITEC XLS files in parallel:  43%|████▎     | 1336/3087 [00:14<00:14, 119.35it/s][Parallel(n_jobs=8)]: Done 1304 tasks      | elapsed:   14.2s\n",
      "Processing SETITEC XLS files in parallel:  47%|████▋     | 1464/3087 [00:15<00:15, 105.29it/s][Parallel(n_jobs=8)]: Done 1420 tasks      | elapsed:   15.3s\n",
      "Processing SETITEC XLS files in parallel:  52%|█████▏    | 1592/3087 [00:16<00:12, 115.94it/s][Parallel(n_jobs=8)]: Done 1536 tasks      | elapsed:   16.2s\n",
      "Processing SETITEC XLS files in parallel:  55%|█████▍    | 1688/3087 [00:17<00:11, 123.04it/s][Parallel(n_jobs=8)]: Done 1660 tasks      | elapsed:   17.4s\n",
      "Processing SETITEC XLS files in parallel:  59%|█████▉    | 1816/3087 [00:18<00:11, 111.65it/s][Parallel(n_jobs=8)]: Done 1784 tasks      | elapsed:   18.5s\n",
      "Processing SETITEC XLS files in parallel:  63%|██████▎   | 1944/3087 [00:19<00:11, 103.83it/s][Parallel(n_jobs=8)]: Done 1916 tasks      | elapsed:   19.7s\n",
      "Processing SETITEC XLS files in parallel:  68%|██████▊   | 2104/3087 [00:21<00:10, 94.13it/s] [Parallel(n_jobs=8)]: Done 2048 tasks      | elapsed:   21.1s\n",
      "Processing SETITEC XLS files in parallel:  72%|███████▏  | 2232/3087 [00:22<00:09, 92.06it/s][Parallel(n_jobs=8)]: Done 2188 tasks      | elapsed:   22.6s\n",
      "Processing SETITEC XLS files in parallel:  76%|███████▋  | 2360/3087 [00:23<00:06, 106.71it/s][Parallel(n_jobs=8)]: Done 2328 tasks      | elapsed:   23.8s\n",
      "Processing SETITEC XLS files in parallel:  82%|████████▏ | 2520/3087 [00:25<00:05, 112.07it/s][Parallel(n_jobs=8)]: Done 2476 tasks      | elapsed:   25.2s\n",
      "Processing SETITEC XLS files in parallel:  87%|████████▋ | 2680/3087 [00:26<00:03, 114.25it/s][Parallel(n_jobs=8)]: Done 2624 tasks      | elapsed:   26.4s\n",
      "Processing SETITEC XLS files in parallel:  91%|█████████ | 2808/3087 [00:27<00:02, 119.32it/s][Parallel(n_jobs=8)]: Done 2780 tasks      | elapsed:   27.8s\n",
      "Processing SETITEC XLS files in parallel:  96%|█████████▌| 2968/3087 [00:28<00:01, 111.68it/s][Parallel(n_jobs=8)]: Done 2936 tasks      | elapsed:   29.1s\n",
      "Processing SETITEC XLS files in parallel: 100%|██████████| 3087/3087 [00:29<00:00, 103.57it/s]\n",
      "[Parallel(n_jobs=8)]: Done 3087 out of 3087 | elapsed:   30.3s finished\n"
     ]
    }
   ],
   "source": [
    "s = process_setitec_xls_files_parallel(xls_files, with_data=True, n_jobs=8)"
   ]
  },
  {
   "cell_type": "code",
   "execution_count": 47,
   "id": "0f83010f",
   "metadata": {},
   "outputs": [
    {
     "name": "stderr",
     "output_type": "stream",
     "text": [
      "Processing all dictionary entries:   9%|▉         | 293/3087 [01:56<18:32,  2.51it/s]\n"
     ]
    },
    {
     "ename": "KeyboardInterrupt",
     "evalue": "",
     "output_type": "error",
     "traceback": [
      "\u001b[1;31m---------------------------------------------------------------------------\u001b[0m",
      "\u001b[1;31mKeyboardInterrupt\u001b[0m                         Traceback (most recent call last)",
      "Cell \u001b[1;32mIn[47], line 29\u001b[0m\n\u001b[0;32m     27\u001b[0m df_metadata \u001b[38;5;241m=\u001b[39m pd\u001b[38;5;241m.\u001b[39mDataFrame(s_metadata, index\u001b[38;5;241m=\u001b[39m[\u001b[38;5;241m0\u001b[39m])\n\u001b[0;32m     28\u001b[0m \u001b[38;5;66;03m# Concatenate metadata and data, repeating metadata for each row of data\u001b[39;00m\n\u001b[1;32m---> 29\u001b[0m df_metadata \u001b[38;5;241m=\u001b[39m \u001b[43mpd\u001b[49m\u001b[38;5;241;43m.\u001b[39;49m\u001b[43mconcat\u001b[49m\u001b[43m(\u001b[49m\u001b[43m[\u001b[49m\u001b[43mdf_metadata\u001b[49m\u001b[43m]\u001b[49m\u001b[43m \u001b[49m\u001b[38;5;241;43m*\u001b[39;49m\u001b[43m \u001b[49m\u001b[38;5;28;43mlen\u001b[39;49m\u001b[43m(\u001b[49m\u001b[43mdf_data\u001b[49m\u001b[43m)\u001b[49m\u001b[43m,\u001b[49m\u001b[43m \u001b[49m\u001b[43mignore_index\u001b[49m\u001b[38;5;241;43m=\u001b[39;49m\u001b[38;5;28;43;01mTrue\u001b[39;49;00m\u001b[43m)\u001b[49m\n\u001b[0;32m     30\u001b[0m df_item \u001b[38;5;241m=\u001b[39m pd\u001b[38;5;241m.\u001b[39mconcat([df_metadata, df_data], axis\u001b[38;5;241m=\u001b[39m\u001b[38;5;241m1\u001b[39m)\n\u001b[0;32m     31\u001b[0m df \u001b[38;5;241m=\u001b[39m pd\u001b[38;5;241m.\u001b[39mconcat([df, df_item], ignore_index\u001b[38;5;241m=\u001b[39m\u001b[38;5;28;01mTrue\u001b[39;00m)\n",
      "File \u001b[1;32mc:\\ProgramData\\miniforge3\\envs\\drilling_dev\\lib\\site-packages\\pandas\\core\\reshape\\concat.py:395\u001b[0m, in \u001b[0;36mconcat\u001b[1;34m(objs, axis, join, ignore_index, keys, levels, names, verify_integrity, sort, copy)\u001b[0m\n\u001b[0;32m    380\u001b[0m     copy \u001b[38;5;241m=\u001b[39m \u001b[38;5;28;01mFalse\u001b[39;00m\n\u001b[0;32m    382\u001b[0m op \u001b[38;5;241m=\u001b[39m _Concatenator(\n\u001b[0;32m    383\u001b[0m     objs,\n\u001b[0;32m    384\u001b[0m     axis\u001b[38;5;241m=\u001b[39maxis,\n\u001b[1;32m   (...)\u001b[0m\n\u001b[0;32m    392\u001b[0m     sort\u001b[38;5;241m=\u001b[39msort,\n\u001b[0;32m    393\u001b[0m )\n\u001b[1;32m--> 395\u001b[0m \u001b[38;5;28;01mreturn\u001b[39;00m \u001b[43mop\u001b[49m\u001b[38;5;241;43m.\u001b[39;49m\u001b[43mget_result\u001b[49m\u001b[43m(\u001b[49m\u001b[43m)\u001b[49m\n",
      "File \u001b[1;32mc:\\ProgramData\\miniforge3\\envs\\drilling_dev\\lib\\site-packages\\pandas\\core\\reshape\\concat.py:684\u001b[0m, in \u001b[0;36m_Concatenator.get_result\u001b[1;34m(self)\u001b[0m\n\u001b[0;32m    680\u001b[0m             indexers[ax] \u001b[38;5;241m=\u001b[39m obj_labels\u001b[38;5;241m.\u001b[39mget_indexer(new_labels)\n\u001b[0;32m    682\u001b[0m     mgrs_indexers\u001b[38;5;241m.\u001b[39mappend((obj\u001b[38;5;241m.\u001b[39m_mgr, indexers))\n\u001b[1;32m--> 684\u001b[0m new_data \u001b[38;5;241m=\u001b[39m \u001b[43mconcatenate_managers\u001b[49m\u001b[43m(\u001b[49m\n\u001b[0;32m    685\u001b[0m \u001b[43m    \u001b[49m\u001b[43mmgrs_indexers\u001b[49m\u001b[43m,\u001b[49m\u001b[43m \u001b[49m\u001b[38;5;28;43mself\u001b[39;49m\u001b[38;5;241;43m.\u001b[39;49m\u001b[43mnew_axes\u001b[49m\u001b[43m,\u001b[49m\u001b[43m \u001b[49m\u001b[43mconcat_axis\u001b[49m\u001b[38;5;241;43m=\u001b[39;49m\u001b[38;5;28;43mself\u001b[39;49m\u001b[38;5;241;43m.\u001b[39;49m\u001b[43mbm_axis\u001b[49m\u001b[43m,\u001b[49m\u001b[43m \u001b[49m\u001b[43mcopy\u001b[49m\u001b[38;5;241;43m=\u001b[39;49m\u001b[38;5;28;43mself\u001b[39;49m\u001b[38;5;241;43m.\u001b[39;49m\u001b[43mcopy\u001b[49m\n\u001b[0;32m    686\u001b[0m \u001b[43m\u001b[49m\u001b[43m)\u001b[49m\n\u001b[0;32m    687\u001b[0m \u001b[38;5;28;01mif\u001b[39;00m \u001b[38;5;129;01mnot\u001b[39;00m \u001b[38;5;28mself\u001b[39m\u001b[38;5;241m.\u001b[39mcopy \u001b[38;5;129;01mand\u001b[39;00m \u001b[38;5;129;01mnot\u001b[39;00m using_copy_on_write():\n\u001b[0;32m    688\u001b[0m     new_data\u001b[38;5;241m.\u001b[39m_consolidate_inplace()\n",
      "File \u001b[1;32mc:\\ProgramData\\miniforge3\\envs\\drilling_dev\\lib\\site-packages\\pandas\\core\\internals\\concat.py:157\u001b[0m, in \u001b[0;36mconcatenate_managers\u001b[1;34m(mgrs_indexers, axes, concat_axis, copy)\u001b[0m\n\u001b[0;32m    154\u001b[0m     out\u001b[38;5;241m.\u001b[39maxes \u001b[38;5;241m=\u001b[39m axes\n\u001b[0;32m    155\u001b[0m     \u001b[38;5;28;01mreturn\u001b[39;00m out\n\u001b[1;32m--> 157\u001b[0m concat_plan \u001b[38;5;241m=\u001b[39m \u001b[43m_get_combined_plan\u001b[49m\u001b[43m(\u001b[49m\u001b[43mmgrs\u001b[49m\u001b[43m)\u001b[49m\n\u001b[0;32m    159\u001b[0m blocks \u001b[38;5;241m=\u001b[39m []\n\u001b[0;32m    160\u001b[0m values: ArrayLike\n",
      "File \u001b[1;32mc:\\ProgramData\\miniforge3\\envs\\drilling_dev\\lib\\site-packages\\pandas\\core\\internals\\concat.py:314\u001b[0m, in \u001b[0;36m_get_combined_plan\u001b[1;34m(mgrs)\u001b[0m\n\u001b[0;32m    311\u001b[0m     blkno \u001b[38;5;241m=\u001b[39m blknos[k]\n\u001b[0;32m    313\u001b[0m     nb \u001b[38;5;241m=\u001b[39m _get_block_for_concat_plan(mgr, bp, blkno, max_len\u001b[38;5;241m=\u001b[39mmax_len)\n\u001b[1;32m--> 314\u001b[0m     unit \u001b[38;5;241m=\u001b[39m \u001b[43mJoinUnit\u001b[49m\u001b[43m(\u001b[49m\u001b[43mnb\u001b[49m\u001b[43m)\u001b[49m\n\u001b[0;32m    315\u001b[0m     units_for_bp\u001b[38;5;241m.\u001b[39mappend(unit)\n\u001b[0;32m    317\u001b[0m plan\u001b[38;5;241m.\u001b[39mappend((bp, units_for_bp))\n",
      "File \u001b[1;32mc:\\ProgramData\\miniforge3\\envs\\drilling_dev\\lib\\site-packages\\pandas\\core\\internals\\concat.py:351\u001b[0m, in \u001b[0;36mJoinUnit.__init__\u001b[1;34m(self, block)\u001b[0m\n\u001b[0;32m    350\u001b[0m \u001b[38;5;28;01mclass\u001b[39;00m\u001b[38;5;250m \u001b[39m\u001b[38;5;21;01mJoinUnit\u001b[39;00m:\n\u001b[1;32m--> 351\u001b[0m     \u001b[38;5;28;01mdef\u001b[39;00m\u001b[38;5;250m \u001b[39m\u001b[38;5;21m__init__\u001b[39m(\u001b[38;5;28mself\u001b[39m, block: Block) \u001b[38;5;241m-\u001b[39m\u001b[38;5;241m>\u001b[39m \u001b[38;5;28;01mNone\u001b[39;00m:\n\u001b[0;32m    352\u001b[0m         \u001b[38;5;28mself\u001b[39m\u001b[38;5;241m.\u001b[39mblock \u001b[38;5;241m=\u001b[39m block\n\u001b[0;32m    354\u001b[0m     \u001b[38;5;28;01mdef\u001b[39;00m\u001b[38;5;250m \u001b[39m\u001b[38;5;21m__repr__\u001b[39m(\u001b[38;5;28mself\u001b[39m) \u001b[38;5;241m-\u001b[39m\u001b[38;5;241m>\u001b[39m \u001b[38;5;28mstr\u001b[39m:\n",
      "\u001b[1;31mKeyboardInterrupt\u001b[0m: "
     ]
    }
   ],
   "source": [
    "l_keys_metadata = ['filename',\n",
    "'directory',\n",
    "'Date',\n",
    "'Drilling Cycle ID',\n",
    "'BOX Name',\n",
    "'BOX SN',\n",
    "'BOX Firmware Version',\n",
    "'Motor Name',\n",
    "'Motor SN',\n",
    "'Head Global Counter',\n",
    "'Head Local Counter 1',\n",
    "]\n",
    "\n",
    "l_keys_data = ['Position (mm)',\n",
    "               'I Torque (A)', 'I Thrust (A)', \n",
    "               'I Torque Empty (A)', 'I Thrust Empty (A)', \n",
    "               'Step (nb)', 'Stop code', 'Torque Power (W)']\n",
    "\n",
    "df = pd.DataFrame()\n",
    "\n",
    "for item in tqdm(s, desc=\"Processing all dictionary entries\"):\n",
    "    if isinstance(item, dict):\n",
    "        # If the item is a dictionary, extract metadata and data\n",
    "        s_data = {key: item[key] for key in l_keys_data if key in item}\n",
    "        df_data = pd.DataFrame(s_data)\n",
    "        s_metadata = {key: item[key] for key in l_keys_metadata if key in item}\n",
    "        df_metadata = pd.DataFrame(s_metadata, index=[0])\n",
    "        # Concatenate metadata and data, repeating metadata for each row of data\n",
    "        df_metadata = pd.concat([df_metadata] * len(df_data), ignore_index=True)\n",
    "        df_item = pd.concat([df_metadata, df_data], axis=1)\n",
    "        df = pd.concat([df, df_item], ignore_index=True)\n",
    "\n"
   ]
  },
  {
   "cell_type": "markdown",
   "id": "d14a7a1e",
   "metadata": {},
   "source": [
    "## Converted dictionary entries into dataframes\n",
    "We also do a datatype conversion to reduce sizes"
   ]
  },
  {
   "cell_type": "code",
   "execution_count": null,
   "id": "9aaac5f2",
   "metadata": {},
   "outputs": [],
   "source": [
    "def process_item_to_dataframe(item):\n",
    "    if isinstance(item, dict):\n",
    "        try:\n",
    "            # If the item is a dictionary, extract metadata and data\n",
    "            s_data = {key: item[key] for key in l_keys_data if key in item}\n",
    "            df_data = pd.DataFrame(s_data)\n",
    "            s_metadata = {key: item[key] for key in l_keys_metadata if key in item}\n",
    "            df_metadata = pd.DataFrame(s_metadata, index=[0])\n",
    "            # Concatenate metadata and data, repeating metadata for each row of data\n",
    "            df_metadata = pd.concat([df_metadata] * len(df_data), ignore_index=True)\n",
    "            df_item = pd.concat([df_metadata, df_data], axis=1)\n",
    "            # Ensure the DataFrame has a consistent index\n",
    "            df_item.reset_index(drop=True, inplace=True)\n",
    "            df_item = df_item.convert_dtypes()\n",
    "            return df_item\n",
    "        except Exception as e:\n",
    "            print(f\"Error processing item: {e}\")\n",
    "            return pd.DataFrame()\n",
    "    return pd.DataFrame()"
   ]
  },
  {
   "cell_type": "code",
   "execution_count": 64,
   "id": "70f4d06e",
   "metadata": {},
   "outputs": [
    {
     "name": "stderr",
     "output_type": "stream",
     "text": [
      "[Parallel(n_jobs=8)]: Using backend LokyBackend with 8 concurrent workers.\n",
      "[Parallel(n_jobs=8)]: Done   2 tasks      | elapsed:    1.9s\n",
      "[Parallel(n_jobs=8)]: Done   9 tasks      | elapsed:    2.1s\n",
      "[Parallel(n_jobs=8)]: Done  16 tasks      | elapsed:    2.3s\n",
      "[Parallel(n_jobs=8)]: Done  25 tasks      | elapsed:    2.5s\n",
      "[Parallel(n_jobs=8)]: Done  34 tasks      | elapsed:    2.7s\n",
      "[Parallel(n_jobs=8)]: Done  45 tasks      | elapsed:    3.0s\n",
      "[Parallel(n_jobs=8)]: Done  56 tasks      | elapsed:    3.3s\n",
      "[Parallel(n_jobs=8)]: Done  69 tasks      | elapsed:    3.5s\n",
      "[Parallel(n_jobs=8)]: Done  82 tasks      | elapsed:    3.8s\n",
      "[Parallel(n_jobs=8)]: Done  97 tasks      | elapsed:    4.1s\n",
      "[Parallel(n_jobs=8)]: Done 112 tasks      | elapsed:    4.4s\n",
      "[Parallel(n_jobs=8)]: Done 129 tasks      | elapsed:    4.8s\n",
      "[Parallel(n_jobs=8)]: Done 146 tasks      | elapsed:    5.1s\n",
      "[Parallel(n_jobs=8)]: Done 165 tasks      | elapsed:    5.6s\n",
      "[Parallel(n_jobs=8)]: Done 184 tasks      | elapsed:    5.9s\n",
      "[Parallel(n_jobs=8)]: Done 205 tasks      | elapsed:    6.4s\n",
      "[Parallel(n_jobs=8)]: Done 226 tasks      | elapsed:    6.8s\n",
      "[Parallel(n_jobs=8)]: Done 249 tasks      | elapsed:    7.3s\n",
      "[Parallel(n_jobs=8)]: Done 272 tasks      | elapsed:    8.5s\n",
      "[Parallel(n_jobs=8)]: Done 297 tasks      | elapsed:    9.0s\n",
      "[Parallel(n_jobs=8)]: Done 322 tasks      | elapsed:    9.6s\n",
      "[Parallel(n_jobs=8)]: Done 349 tasks      | elapsed:   10.2s\n",
      "[Parallel(n_jobs=8)]: Done 376 tasks      | elapsed:   10.8s\n",
      "[Parallel(n_jobs=8)]: Done 405 tasks      | elapsed:   11.4s\n",
      "[Parallel(n_jobs=8)]: Done 434 tasks      | elapsed:   11.9s\n",
      "[Parallel(n_jobs=8)]: Batch computation too fast (0.1856792671383433s.) Setting batch_size=2.\n",
      "[Parallel(n_jobs=8)]: Batch computation too fast (0.13800525665283203s.) Setting batch_size=4.\n",
      "[Parallel(n_jobs=8)]: Done 474 tasks      | elapsed:   12.1s\n",
      "[Parallel(n_jobs=8)]: Done 584 tasks      | elapsed:   14.5s\n",
      "[Parallel(n_jobs=8)]: Done 716 tasks      | elapsed:   17.6s\n",
      "[Parallel(n_jobs=8)]: Done 848 tasks      | elapsed:   20.9s\n",
      "[Parallel(n_jobs=8)]: Done 988 tasks      | elapsed:   24.2s\n",
      "[Parallel(n_jobs=8)]: Done 1128 tasks      | elapsed:   27.0s\n",
      "[Parallel(n_jobs=8)]: Done 1276 tasks      | elapsed:   31.0s\n",
      "[Parallel(n_jobs=8)]: Done 1424 tasks      | elapsed:   34.7s\n",
      "[Parallel(n_jobs=8)]: Done 1580 tasks      | elapsed:   38.1s\n",
      "[Parallel(n_jobs=8)]: Done 1736 tasks      | elapsed:   41.7s\n",
      "[Parallel(n_jobs=8)]: Done 1900 tasks      | elapsed:   45.6s\n",
      "[Parallel(n_jobs=8)]: Done 2064 tasks      | elapsed:   49.7s\n",
      "[Parallel(n_jobs=8)]: Done 2236 tasks      | elapsed:   54.1s\n",
      "[Parallel(n_jobs=8)]: Done 2408 tasks      | elapsed:   58.2s\n",
      "[Parallel(n_jobs=8)]: Done 2588 tasks      | elapsed:  1.0min\n",
      "[Parallel(n_jobs=8)]: Batch computation too slow (2.092175193647731s.) Setting batch_size=1.\n",
      "[Parallel(n_jobs=8)]: Done 2768 tasks      | elapsed:  1.1min\n",
      "[Parallel(n_jobs=8)]: Batch computation too fast (0.17145058942016603s.) Setting batch_size=2.\n",
      "[Parallel(n_jobs=8)]: Done 2866 tasks      | elapsed:  1.2min\n",
      "[Parallel(n_jobs=8)]: Done 2960 tasks      | elapsed:  1.2min\n",
      "Creating SETITEC dataframes  in parallel: 100%|██████████| 3087/3087 [01:14<00:00, 41.65it/s]\n",
      "[Parallel(n_jobs=8)]: Done 3058 tasks      | elapsed:  1.2min\n",
      "[Parallel(n_jobs=8)]: Done 3087 out of 3087 | elapsed:  1.3min finished\n"
     ]
    }
   ],
   "source": [
    "n_jobs = 8\n",
    "from joblib import Parallel, delayed\n",
    "list_df_parallel = Parallel(n_jobs=n_jobs, verbose=10)(\n",
    "    delayed(process_item_to_dataframe)(item) for item in tqdm(s, desc=\"Creating SETITEC dataframes  in parallel\")\n",
    ")"
   ]
  },
  {
   "cell_type": "code",
   "execution_count": 65,
   "id": "a189cd9f",
   "metadata": {},
   "outputs": [],
   "source": [
    "df = pd.concat(list_df_parallel, ignore_index=True)\n",
    "df.reset_index(drop=True, inplace=True)"
   ]
  },
  {
   "cell_type": "code",
   "execution_count": 66,
   "id": "ff316020",
   "metadata": {},
   "outputs": [
    {
     "data": {
      "application/vnd.microsoft.datawrangler.viewer.v0+json": {
       "columns": [
        {
         "name": "index",
         "rawType": "int64",
         "type": "integer"
        },
        {
         "name": "filename",
         "rawType": "string",
         "type": "string"
        },
        {
         "name": "directory",
         "rawType": "string",
         "type": "string"
        },
        {
         "name": "BOX Name",
         "rawType": "object",
         "type": "unknown"
        },
        {
         "name": "BOX SN",
         "rawType": "object",
         "type": "unknown"
        },
        {
         "name": "Motor SN",
         "rawType": "Int64",
         "type": "integer"
        },
        {
         "name": "Head Global Counter",
         "rawType": "Int64",
         "type": "integer"
        },
        {
         "name": "Position (mm)",
         "rawType": "Float64",
         "type": "float"
        },
        {
         "name": "I Torque (A)",
         "rawType": "Float64",
         "type": "float"
        },
        {
         "name": "I Thrust (A)",
         "rawType": "Float64",
         "type": "float"
        },
        {
         "name": "I Torque Empty (A)",
         "rawType": "Float64",
         "type": "float"
        },
        {
         "name": "Step (nb)",
         "rawType": "Int64",
         "type": "integer"
        },
        {
         "name": "Stop code",
         "rawType": "Int64",
         "type": "integer"
        },
        {
         "name": "Date",
         "rawType": "string",
         "type": "string"
        },
        {
         "name": "Drilling Cycle ID",
         "rawType": "Float64",
         "type": "float"
        },
        {
         "name": "BOX Firmware Version",
         "rawType": "object",
         "type": "string"
        },
        {
         "name": "Motor Name",
         "rawType": "string",
         "type": "string"
        },
        {
         "name": "Head Local Counter 1",
         "rawType": "Int64",
         "type": "integer"
        },
        {
         "name": "I Thrust Empty (A)",
         "rawType": "Float64",
         "type": "float"
        },
        {
         "name": "Torque Power (W)",
         "rawType": "Int64",
         "type": "integer"
        }
       ],
       "ref": "8910070a-8f2c-46ae-8a81-f5c0f2155ad4",
       "rows": [
        [
         "7490233",
         "20110020_20110020_ST_2248_64",
         "LEDU20100002",
         "20100002",
         "20100002",
         "20110020",
         "2248",
         "-31.804000854492188",
         "5.810999870300293",
         "0.3400000035762787",
         "5.0289998054504395",
         "4",
         "0",
         "2023-08-24:09:06:26",
         "2873257258.0",
         "V 3.2.2.1",
         "Light_EDU\u0000",
         "64",
         "0.328000009059906",
         "227"
        ],
        [
         "7490234",
         "20110020_20110020_ST_2248_64",
         "LEDU20100002",
         "20100002",
         "20100002",
         "20110020",
         "2248",
         "-31.82699966430664",
         "5.9079999923706055",
         "0.47999998927116394",
         "5.0289998054504395",
         "4",
         "0",
         "2023-08-24:09:06:26",
         "2873257258.0",
         "V 3.2.2.1",
         "Light_EDU\u0000",
         "64",
         "0.328000009059906",
         "230"
        ],
        [
         "7490235",
         "20110020_20110020_ST_2248_64",
         "LEDU20100002",
         "20100002",
         "20100002",
         "20110020",
         "2248",
         "-31.850000381469727",
         "6.00600004196167",
         "0.703000009059906",
         "5.0289998054504395",
         "4",
         "0",
         "2023-08-24:09:06:26",
         "2873257258.0",
         "V 3.2.2.1",
         "Light_EDU\u0000",
         "64",
         "0.328000009059906",
         "232"
        ],
        [
         "7490236",
         "20110020_20110020_ST_2248_64",
         "LEDU20100002",
         "20100002",
         "20100002",
         "20110020",
         "2248",
         "-31.850000381469727",
         "6.00600004196167",
         "0.703000009059906",
         "5.0289998054504395",
         "4",
         "8",
         "2023-08-24:09:06:26",
         "2873257258.0",
         "V 3.2.2.1",
         "Light_EDU\u0000",
         "64",
         "0.328000009059906",
         "232"
        ],
        [
         "7490237",
         "20110020_20110020_ST_2248_64",
         "LEDU20100002",
         "20100002",
         "20100002",
         "20110020",
         "2248",
         "-31.850000381469727",
         "6.00600004196167",
         "0.703000009059906",
         "5.0289998054504395",
         "4",
         "8",
         "2023-08-24:09:06:26",
         "2873257258.0",
         "V 3.2.2.1",
         "Light_EDU\u0000",
         "64",
         "0.328000009059906",
         "232"
        ]
       ],
       "shape": {
        "columns": 19,
        "rows": 5
       }
      },
      "text/html": [
       "<div>\n",
       "<style scoped>\n",
       "    .dataframe tbody tr th:only-of-type {\n",
       "        vertical-align: middle;\n",
       "    }\n",
       "\n",
       "    .dataframe tbody tr th {\n",
       "        vertical-align: top;\n",
       "    }\n",
       "\n",
       "    .dataframe thead th {\n",
       "        text-align: right;\n",
       "    }\n",
       "</style>\n",
       "<table border=\"1\" class=\"dataframe\">\n",
       "  <thead>\n",
       "    <tr style=\"text-align: right;\">\n",
       "      <th></th>\n",
       "      <th>filename</th>\n",
       "      <th>directory</th>\n",
       "      <th>BOX Name</th>\n",
       "      <th>BOX SN</th>\n",
       "      <th>Motor SN</th>\n",
       "      <th>Head Global Counter</th>\n",
       "      <th>Position (mm)</th>\n",
       "      <th>I Torque (A)</th>\n",
       "      <th>I Thrust (A)</th>\n",
       "      <th>I Torque Empty (A)</th>\n",
       "      <th>Step (nb)</th>\n",
       "      <th>Stop code</th>\n",
       "      <th>Date</th>\n",
       "      <th>Drilling Cycle ID</th>\n",
       "      <th>BOX Firmware Version</th>\n",
       "      <th>Motor Name</th>\n",
       "      <th>Head Local Counter 1</th>\n",
       "      <th>I Thrust Empty (A)</th>\n",
       "      <th>Torque Power (W)</th>\n",
       "    </tr>\n",
       "  </thead>\n",
       "  <tbody>\n",
       "    <tr>\n",
       "      <th>7490233</th>\n",
       "      <td>20110020_20110020_ST_2248_64</td>\n",
       "      <td>LEDU20100002</td>\n",
       "      <td>20100002</td>\n",
       "      <td>20100002</td>\n",
       "      <td>20110020</td>\n",
       "      <td>2248</td>\n",
       "      <td>-31.804001</td>\n",
       "      <td>5.811</td>\n",
       "      <td>0.34</td>\n",
       "      <td>5.029</td>\n",
       "      <td>4</td>\n",
       "      <td>0</td>\n",
       "      <td>2023-08-24:09:06:26</td>\n",
       "      <td>2873257258.0</td>\n",
       "      <td>V 3.2.2.1</td>\n",
       "      <td>Light_EDU\u0000</td>\n",
       "      <td>64</td>\n",
       "      <td>0.328</td>\n",
       "      <td>227</td>\n",
       "    </tr>\n",
       "    <tr>\n",
       "      <th>7490234</th>\n",
       "      <td>20110020_20110020_ST_2248_64</td>\n",
       "      <td>LEDU20100002</td>\n",
       "      <td>20100002</td>\n",
       "      <td>20100002</td>\n",
       "      <td>20110020</td>\n",
       "      <td>2248</td>\n",
       "      <td>-31.827</td>\n",
       "      <td>5.908</td>\n",
       "      <td>0.48</td>\n",
       "      <td>5.029</td>\n",
       "      <td>4</td>\n",
       "      <td>0</td>\n",
       "      <td>2023-08-24:09:06:26</td>\n",
       "      <td>2873257258.0</td>\n",
       "      <td>V 3.2.2.1</td>\n",
       "      <td>Light_EDU\u0000</td>\n",
       "      <td>64</td>\n",
       "      <td>0.328</td>\n",
       "      <td>230</td>\n",
       "    </tr>\n",
       "    <tr>\n",
       "      <th>7490235</th>\n",
       "      <td>20110020_20110020_ST_2248_64</td>\n",
       "      <td>LEDU20100002</td>\n",
       "      <td>20100002</td>\n",
       "      <td>20100002</td>\n",
       "      <td>20110020</td>\n",
       "      <td>2248</td>\n",
       "      <td>-31.85</td>\n",
       "      <td>6.006</td>\n",
       "      <td>0.703</td>\n",
       "      <td>5.029</td>\n",
       "      <td>4</td>\n",
       "      <td>0</td>\n",
       "      <td>2023-08-24:09:06:26</td>\n",
       "      <td>2873257258.0</td>\n",
       "      <td>V 3.2.2.1</td>\n",
       "      <td>Light_EDU\u0000</td>\n",
       "      <td>64</td>\n",
       "      <td>0.328</td>\n",
       "      <td>232</td>\n",
       "    </tr>\n",
       "    <tr>\n",
       "      <th>7490236</th>\n",
       "      <td>20110020_20110020_ST_2248_64</td>\n",
       "      <td>LEDU20100002</td>\n",
       "      <td>20100002</td>\n",
       "      <td>20100002</td>\n",
       "      <td>20110020</td>\n",
       "      <td>2248</td>\n",
       "      <td>-31.85</td>\n",
       "      <td>6.006</td>\n",
       "      <td>0.703</td>\n",
       "      <td>5.029</td>\n",
       "      <td>4</td>\n",
       "      <td>8</td>\n",
       "      <td>2023-08-24:09:06:26</td>\n",
       "      <td>2873257258.0</td>\n",
       "      <td>V 3.2.2.1</td>\n",
       "      <td>Light_EDU\u0000</td>\n",
       "      <td>64</td>\n",
       "      <td>0.328</td>\n",
       "      <td>232</td>\n",
       "    </tr>\n",
       "    <tr>\n",
       "      <th>7490237</th>\n",
       "      <td>20110020_20110020_ST_2248_64</td>\n",
       "      <td>LEDU20100002</td>\n",
       "      <td>20100002</td>\n",
       "      <td>20100002</td>\n",
       "      <td>20110020</td>\n",
       "      <td>2248</td>\n",
       "      <td>-31.85</td>\n",
       "      <td>6.006</td>\n",
       "      <td>0.703</td>\n",
       "      <td>5.029</td>\n",
       "      <td>4</td>\n",
       "      <td>8</td>\n",
       "      <td>2023-08-24:09:06:26</td>\n",
       "      <td>2873257258.0</td>\n",
       "      <td>V 3.2.2.1</td>\n",
       "      <td>Light_EDU\u0000</td>\n",
       "      <td>64</td>\n",
       "      <td>0.328</td>\n",
       "      <td>232</td>\n",
       "    </tr>\n",
       "  </tbody>\n",
       "</table>\n",
       "</div>"
      ],
      "text/plain": [
       "                             filename     directory  BOX Name    BOX SN  \\\n",
       "7490233  20110020_20110020_ST_2248_64  LEDU20100002  20100002  20100002   \n",
       "7490234  20110020_20110020_ST_2248_64  LEDU20100002  20100002  20100002   \n",
       "7490235  20110020_20110020_ST_2248_64  LEDU20100002  20100002  20100002   \n",
       "7490236  20110020_20110020_ST_2248_64  LEDU20100002  20100002  20100002   \n",
       "7490237  20110020_20110020_ST_2248_64  LEDU20100002  20100002  20100002   \n",
       "\n",
       "         Motor SN  Head Global Counter  Position (mm)  I Torque (A)  \\\n",
       "7490233  20110020                 2248     -31.804001         5.811   \n",
       "7490234  20110020                 2248        -31.827         5.908   \n",
       "7490235  20110020                 2248         -31.85         6.006   \n",
       "7490236  20110020                 2248         -31.85         6.006   \n",
       "7490237  20110020                 2248         -31.85         6.006   \n",
       "\n",
       "         I Thrust (A)  I Torque Empty (A)  Step (nb)  Stop code  \\\n",
       "7490233          0.34               5.029          4          0   \n",
       "7490234          0.48               5.029          4          0   \n",
       "7490235         0.703               5.029          4          0   \n",
       "7490236         0.703               5.029          4          8   \n",
       "7490237         0.703               5.029          4          8   \n",
       "\n",
       "                        Date  Drilling Cycle ID BOX Firmware Version  \\\n",
       "7490233  2023-08-24:09:06:26       2873257258.0            V 3.2.2.1   \n",
       "7490234  2023-08-24:09:06:26       2873257258.0            V 3.2.2.1   \n",
       "7490235  2023-08-24:09:06:26       2873257258.0            V 3.2.2.1   \n",
       "7490236  2023-08-24:09:06:26       2873257258.0            V 3.2.2.1   \n",
       "7490237  2023-08-24:09:06:26       2873257258.0            V 3.2.2.1   \n",
       "\n",
       "         Motor Name  Head Local Counter 1  I Thrust Empty (A)  \\\n",
       "7490233  Light_EDU\u0000                    64               0.328   \n",
       "7490234  Light_EDU\u0000                    64               0.328   \n",
       "7490235  Light_EDU\u0000                    64               0.328   \n",
       "7490236  Light_EDU\u0000                    64               0.328   \n",
       "7490237  Light_EDU\u0000                    64               0.328   \n",
       "\n",
       "         Torque Power (W)  \n",
       "7490233               227  \n",
       "7490234               230  \n",
       "7490235               232  \n",
       "7490236               232  \n",
       "7490237               232  "
      ]
     },
     "execution_count": 66,
     "metadata": {},
     "output_type": "execute_result"
    }
   ],
   "source": [
    "df.tail()"
   ]
  },
  {
   "cell_type": "markdown",
   "id": "58d68901",
   "metadata": {},
   "source": [
    "### Corrected the types of several columns\n",
    "Otherwise this cannot be saved in a parquet"
   ]
  },
  {
   "cell_type": "code",
   "execution_count": 82,
   "id": "f281fe8c",
   "metadata": {},
   "outputs": [],
   "source": [
    "df1 = df.astype({\n",
    "           \"BOX Name\": \"string\",\n",
    "           \"BOX SN\": \"string\",\n",
    "           \"BOX Firmware Version\": \"string\",\n",
    "          })\n",
    "# df.to_parquet(ham_selected_dir / \"HAM_selected_setitec_data.parquet\", index=False)"
   ]
  },
  {
   "cell_type": "code",
   "execution_count": 84,
   "id": "11de6797",
   "metadata": {},
   "outputs": [],
   "source": [
    "# s[-1].keys()\n",
    "# s_metadata = {key: s[-1][key] for key in l_keys_metadata}\n",
    "# df.head()\n",
    "# process_item_to_dataframe(s[-1])\n",
    "df1.to_parquet(ham_selected_dir / \"HAM_selected_setitec_data.parquet\", index=False, compression=\"brotli\")"
   ]
  },
  {
   "cell_type": "markdown",
   "id": "fb86e45d",
   "metadata": {},
   "source": [
    "## Pickling and saving the dictionary"
   ]
  },
  {
   "cell_type": "code",
   "execution_count": 86,
   "id": "93343d85",
   "metadata": {},
   "outputs": [],
   "source": [
    "import pickle\n",
    "pickle_file = ham_selected_dir / \"HAM_unlabelled_signal_dict_20250617.pkl\"\n",
    "\n",
    "with open(pickle_file, 'wb') as f:\n",
    "    pickle.dump(s, f)\n",
    "\n",
    "import json\n",
    "json_file = ham_selected_dir / \"HAM_unlabelled_signal_dict_20250617.json\"\n",
    "with open(json_file, 'w') as f:\n",
    "    json.dump(s, f, indent=4, ensure_ascii=False)"
   ]
  }
 ],
 "metadata": {
  "kernelspec": {
   "display_name": "drilling_dev",
   "language": "python",
   "name": "python3"
  },
  "language_info": {
   "codemirror_mode": {
    "name": "ipython",
    "version": 3
   },
   "file_extension": ".py",
   "mimetype": "text/x-python",
   "name": "python",
   "nbconvert_exporter": "python",
   "pygments_lexer": "ipython3",
   "version": "3.10.17"
  }
 },
 "nbformat": 4,
 "nbformat_minor": 5
}
